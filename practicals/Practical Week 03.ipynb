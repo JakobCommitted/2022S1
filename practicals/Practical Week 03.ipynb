{
 "cells": [
  {
   "cell_type": "markdown",
   "metadata": {},
   "source": [
    "# Text Classification: Name Gender\n",
    "\n",
    "Here is a partition of the name gender data into training, dev-test, and test data as shown in the lectures:"
   ]
  },
  {
   "cell_type": "code",
   "execution_count": 11,
   "metadata": {},
   "outputs": [
    {
     "name": "stderr",
     "output_type": "stream",
     "text": [
      "[nltk_data] Downloading package names to /Users/jakob/nltk_data...\n",
      "[nltk_data]   Package names is already up-to-date!\n"
     ]
    }
   ],
   "source": [
    "import nltk\n",
    "nltk.download('names')\n",
    "from nltk.corpus import names\n",
    "m = names.words('male.txt')\n",
    "f = names.words('female.txt')"
   ]
  },
  {
   "cell_type": "code",
   "execution_count": 26,
   "metadata": {},
   "outputs": [
    {
     "name": "stdout",
     "output_type": "stream",
     "text": [
      "[('Zonnya', 'female'), ('Zora', 'female'), ('Zorah', 'female'), ('Zorana', 'female'), ('Zorina', 'female'), ('Zorine', 'female'), ('Zsa Zsa', 'female'), ('Zsazsa', 'female'), ('Zulema', 'female'), ('Zuzana', 'female')]\n"
     ]
    }
   ],
   "source": [
    "# print(names.words('male.txt')[:10])\n",
    "print(([(name, 'male') for name in m] +\n",
    "         [(name, 'female') for name in f])[-10:])"
   ]
  },
  {
   "cell_type": "code",
   "execution_count": 23,
   "metadata": {},
   "outputs": [
    {
     "name": "stdout",
     "output_type": "stream",
     "text": [
      "7944\n"
     ]
    }
   ],
   "source": [
    "import random\n",
    "random.seed(1234) # Set the random seed to allow replicability\n",
    "names = ([(name, 'male') for name in m] +\n",
    "         [(name, 'female') for name in f])\n",
    "random.shuffle(names)\n",
    "train_names = names[1000:]\n",
    "devtest_names = names[500:1000]\n",
    "test_names = names[:500]"
   ]
  },
  {
   "cell_type": "markdown",
   "metadata": {},
   "source": [
    "And here is one of the classifiers given in the lectures."
   ]
  },
  {
   "cell_type": "code",
   "execution_count": 19,
   "metadata": {},
   "outputs": [
    {
     "name": "stdout",
     "output_type": "stream",
     "text": [
      "Accuracy 0.770000\n",
      "   Tag | Prec.  | Recall | F-measure\n",
      "-------+--------+--------+-----------\n",
      "female | 0.8056 | 0.8290 | 0.8172\n",
      "  male | 0.7072 | 0.6737 | 0.6900\n",
      "\n"
     ]
    }
   ],
   "source": [
    "def gender_features2(word):\n",
    "    return {'suffix1': word[-1:],\n",
    "            'suffix2': word[-2:]}\n",
    "\n",
    "train_set2 = [(gender_features2(n), g) for n, g in train_names]\n",
    "devtest_set2 = [(gender_features2(n), g) for n, g in devtest_names]\n",
    "\n",
    "classifier2 = nltk.NaiveBayesClassifier.train(train_set2)\n",
    "\n",
    "acc=nltk.classify.accuracy(classifier2,devtest_set2)\n",
    "print(\"Accuracy %f\" % acc)\n",
    "\n",
    "cmatrix2=nltk.ConfusionMatrix([classifier2.classify(n) for (n,g) in devtest_set2],\n",
    "[g for (n,g) in devtest_set2])\n",
    "print(cmatrix2.evaluate())"
   ]
  },
  {
   "cell_type": "markdown",
   "metadata": {},
   "source": [
    "### Exercise: Using more information\n",
    "Define a new function `gender_features5` that takes, as features, any suffixes of size 1, 2, 3, 4, and 5. Examine the accuracy results. What can you conclude from this new classifier?"
   ]
  },
  {
   "cell_type": "code",
   "execution_count": 28,
   "metadata": {},
   "outputs": [
    {
     "name": "stdout",
     "output_type": "stream",
     "text": [
      "6944\n",
      "Accuracy 0.824000\n",
      "   Tag | Prec.  | Recall | F-measure\n",
      "-------+--------+--------+-----------\n",
      "female | 0.8307 | 0.8863 | 0.8576\n",
      "  male | 0.8122 | 0.7313 | 0.7696\n",
      "\n"
     ]
    }
   ],
   "source": [
    "def gender_features5(word):\n",
    "    return {'suffix1': word[-1:],'suffix2': word[-2:],'suffix3': word[:-3],\n",
    "    'suffix4': word[:-4],'suffix5': word[:-5]}\n",
    "\n",
    "# training & devtest set\n",
    "train_set5 =[(gender_features5(n), g) for n, g in train_names]\n",
    "devtest_set5 = [(gender_features5(n), g) for n, g in devtest_names]\n",
    "classifier5= nltk.NaiveBayesClassifier.train(train_set5)\n",
    "acc=nltk.classify.accuracy(classifier5, devtest_set5)\n",
    "print(\"Accuracy %f\" % acc)\n",
    "cmatrix5=nltk.ConfusionMatrix([classifier5.classify(n) for (n,g) in devtest_set5],\n",
    "[g for (n,g) in devtest_set5])\n",
    "print(cmatrix5.evaluate())\n",
    "\n"
   ]
  },
  {
   "cell_type": "markdown",
   "metadata": {},
   "source": [
    "### Exercise: Plot the impact of the training size on our classifier\n",
    "\n",
    "The following code plots the classifier accuracy on the training and dev-test set as we increase the training size on the classifier we used in the. Examine the plot and answer the following questions:\n",
    "\n",
    "1. From what amount of training data you would judge that the system stops over-fitting?\n",
    "2. From what amount of training data would you say that there is no need to add more training data?"
   ]
  },
  {
   "cell_type": "code",
   "execution_count": 35,
   "metadata": {},
   "outputs": [],
   "source": [
    "train_accuracy2 = []\n",
    "devtest_accuracy2 = []\n",
    "nsamples = range(10, 500, 5)\n",
    "for n in nsamples:\n",
    "    classifier2 = nltk.NaiveBayesClassifier.train(train_set2[:n])\n",
    "    train_accuracy2.append(nltk.classify.accuracy(classifier2, train_set2[:n]))\n",
    "    devtest_accuracy2.append(nltk.classify.accuracy(classifier2, devtest_set2))"
   ]
  },
  {
   "cell_type": "code",
   "execution_count": 36,
   "metadata": {},
   "outputs": [
    {
     "data": {
      "text/plain": [
       "<matplotlib.legend.Legend at 0x7fcdf5a76130>"
      ]
     },
     "execution_count": 36,
     "metadata": {},
     "output_type": "execute_result"
    },
    {
     "data": {
      "image/png": "[encoded data removed]",
      "text/plain": [
       "<Figure size 432x288 with 1 Axes>"
      ]
     },
     "metadata": {
      "needs_background": "light"
     },
     "output_type": "display_data"
    }
   ],
   "source": [
    "%matplotlib inline\n",
    "from matplotlib import pyplot as plt\n",
    "plt.plot(nsamples, train_accuracy2, label='Train')\n",
    "plt.plot(nsamples, devtest_accuracy2, label='Devtest')\n",
    "plt.xlabel('Training size')\n",
    "plt.ylabel('Accuracy')\n",
    "plt.title('Classifier 2')\n",
    "plt.legend()"
   ]
  },
  {
   "cell_type": "markdown",
   "metadata": {},
   "source": [
    "### Exercise: Plot the impact of the training size on your classifier\n",
    "\n",
    "Make the same plot, this time using the classifier that uses the feature extractor that you have designed. Compare your plot against the one in the above exercise."
   ]
  },
  {
   "cell_type": "code",
   "execution_count": 38,
   "metadata": {},
   "outputs": [
    {
     "data": {
      "text/plain": [
       "<matplotlib.legend.Legend at 0x7fcdf4b35970>"
      ]
     },
     "execution_count": 38,
     "metadata": {},
     "output_type": "execute_result"
    },
    {
     "data": {
      "image/png": "[encoded data removed]",
      "text/plain": [
       "<Figure size 432x288 with 1 Axes>"
      ]
     },
     "metadata": {
      "needs_background": "light"
     },
     "output_type": "display_data"
    }
   ],
   "source": [
    "train_accuracy5 = []\n",
    "devtest_accuracy5 = []\n",
    "nsamples = range(10, 500, 5)\n",
    "for n in nsamples:\n",
    "    classifier5 = nltk.NaiveBayesClassifier.train(train_set5[:n])\n",
    "    train_accuracy5.append(nltk.classify.accuracy(classifier5, train_set5[:n]))\n",
    "    devtest_accuracy5.append(nltk.classify.accuracy(classifier5, devtest_set5))\n",
    "\n",
    "plt.plot(nsamples, train_accuracy5, label='Train')\n",
    "plt.plot(nsamples, devtest_accuracy5, label='Devtest')\n",
    "plt.xlabel('Training size')\n",
    "plt.ylabel('Accuracy')\n",
    "plt.title('Classifier 5')\n",
    "plt.legend()"
   ]
  },
  {
   "cell_type": "code",
   "execution_count": 21,
   "metadata": {},
   "outputs": [
    {
     "data": {
      "text/plain": [
       "[0.74, 0.742, 0.74, 0.738, 0.744, 0.74, 0.74, 0.736, 0.74, 0.74]"
      ]
     },
     "execution_count": 21,
     "metadata": {},
     "output_type": "execute_result"
    }
   ],
   "source": [
    "devtest_accuracy5[-10:]"
   ]
  },
  {
   "cell_type": "markdown",
   "metadata": {},
   "source": [
    "### Exercise: Repeat the analysis using sk-learn\n",
    "\n",
    "The lectures show how to use sklearn to implement the name classifier. Replicate the work in this workshop and try to answer the same questions as above.\n",
    "\n",
    "1. Is it better to use the last two characters, or the last 5 characters?\n",
    "2. From what amount of training data you would judge that the system stops overfitting?\n",
    "3. From what amount of training data would you say that there is no need to add more training data?\n"
   ]
  },
  {
   "cell_type": "code",
   "execution_count": null,
   "metadata": {},
   "outputs": [],
   "source": [
    "import sklearn\n"
   ]
  }
 ],
 "metadata": {
  "kernelspec": {
   "display_name": "Python 3",
   "language": "python",
   "name": "python3"
  },
  "language_info": {
   "codemirror_mode": {
    "name": "ipython",
    "version": 3
   },
   "file_extension": ".py",
   "mimetype": "text/x-python",
   "name": "python",
   "nbconvert_exporter": "python",
   "pygments_lexer": "ipython3",
   "version": "3.8.12"
  }
 },
 "nbformat": 4,
 "nbformat_minor": 2
}
