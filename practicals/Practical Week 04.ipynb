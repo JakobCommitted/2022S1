{
 "cells": [
  {
   "cell_type": "markdown",
   "metadata": {},
   "source": [
    "# Workshop Week 4"
   ]
  },
  {
   "cell_type": "markdown",
   "metadata": {},
   "source": [
    "# Deep Learning for Name Gender Classification\n",
    "\n",
    "We have already seen the following code for partitioning the data of name gender classification and feature extraction. The code is changed slightly so that the labels are numerical (0 for male, 1 for female). This is the format required for Keras:"
   ]
  },
  {
   "cell_type": "code",
   "execution_count": 1,
   "metadata": {},
   "outputs": [
    {
     "name": "stderr",
     "output_type": "stream",
     "text": [
      "[nltk_data] Downloading package names to /Users/jakob/nltk_data...\n",
      "[nltk_data]   Package names is already up-to-date!\n"
     ]
    }
   ],
   "source": [
    "import nltk\n",
    "nltk.download('names')\n",
    "from nltk.corpus import names\n",
    "m = names.words('male.txt')\n",
    "f = names.words('female.txt')"
   ]
  },
  {
   "cell_type": "code",
   "execution_count": 2,
   "metadata": {},
   "outputs": [],
   "source": [
    "import random\n",
    "random.seed(1234) # Set the random seed to allow replicability\n",
    "names = ([(name,0) for name in m] +\n",
    "         [(name,1) for name in f])\n",
    "random.shuffle(names)\n",
    "train_names = names[1000:]\n",
    "devtest_names = names[500:1000]\n",
    "test_names = names[:500]"
   ]
  },
  {
   "cell_type": "code",
   "execution_count": 3,
   "metadata": {},
   "outputs": [],
   "source": [
    "def one_hot_character(c):\n",
    "    alphabet = 'abcdefghijklmnopqrstuvwxyz'\n",
    "    result = [0]*(len(alphabet)+1)\n",
    "    i = alphabet.find(c.lower())\n",
    "    if i >= 0:\n",
    "        result[i] = 1\n",
    "    else:\n",
    "        result[len(alphabet)] = 1 # character is out of the alphabet\n",
    "    return result\n",
    "\n",
    "def gender_features_n(word, n=2):\n",
    "    \"Return the one-hot encodings of the last n characters\"\n",
    "    features = []\n",
    "    for i in range(n):\n",
    "        if i < len(word):\n",
    "            features = one_hot_character(word[-i-1]) + features\n",
    "        else:\n",
    "            features = one_hot_character(' ') + features\n",
    "    return features"
   ]
  },
  {
   "cell_type": "code",
   "execution_count": 4,
   "metadata": {},
   "outputs": [
    {
     "data": {
      "text/plain": [
       "[0,\n",
       " 0,\n",
       " 0,\n",
       " 0,\n",
       " 0,\n",
       " 0,\n",
       " 0,\n",
       " 0,\n",
       " 0,\n",
       " 0,\n",
       " 0,\n",
       " 0,\n",
       " 0,\n",
       " 0,\n",
       " 0,\n",
       " 0,\n",
       " 0,\n",
       " 1,\n",
       " 0,\n",
       " 0,\n",
       " 0,\n",
       " 0,\n",
       " 0,\n",
       " 0,\n",
       " 0,\n",
       " 0,\n",
       " 0,\n",
       " 0,\n",
       " 0,\n",
       " 0,\n",
       " 0,\n",
       " 0,\n",
       " 0,\n",
       " 0,\n",
       " 0,\n",
       " 0,\n",
       " 0,\n",
       " 0,\n",
       " 0,\n",
       " 0,\n",
       " 0,\n",
       " 0,\n",
       " 0,\n",
       " 0,\n",
       " 0,\n",
       " 0,\n",
       " 0,\n",
       " 0,\n",
       " 0,\n",
       " 0,\n",
       " 0,\n",
       " 1,\n",
       " 0,\n",
       " 0]"
      ]
     },
     "execution_count": 4,
     "metadata": {},
     "output_type": "execute_result"
    }
   ],
   "source": [
    "gender_features_n(\"Mary\", n=2)"
   ]
  },
  {
   "cell_type": "code",
   "execution_count": 5,
   "metadata": {},
   "outputs": [
    {
     "data": {
      "text/plain": [
       "54"
      ]
     },
     "execution_count": 5,
     "metadata": {},
     "output_type": "execute_result"
    }
   ],
   "source": [
    "# Let's determine the number of features so that we can use this information when we design the neural network\n",
    "len(gender_features_n(\"Mary\", n=2))"
   ]
  },
  {
   "cell_type": "markdown",
   "metadata": {},
   "source": [
    "## Exercise: Simple Neural Network\n",
    "Design a simple neural network that has 54 input cells (that's the number of gender features for $n=2$, as we have seen above), and one output cell (without a hidden layer). The output cell will be used to classify the name between male (output=0) and female (output=1). This is therefore an instance of **binary classification**. Pay attention to the right activation function! This simple model, without hidden layers, is equivalent to a **logistic regression** classifier. The model summary should look like this:\n",
    "\n",
    "```\n",
    "Layer (type)                 Output Shape              Param #   \n",
    "=================================================================\n",
    "dense_2 (Dense)              (None, 1)                 55        \n",
    "=================================================================\n",
    "Total params: 55\n",
    "Trainable params: 55\n",
    "Non-trainable params: 0\n",
    "```\n",
    "\n",
    "\n",
    "Compile the model and provide the right loss function. Use `'rmsprop'` as the optimiser, and include `'accuracy'` as an evaluation metric. \n",
    "Run the network **for 100 epochs** using batch size of 100, and observe the results. \n",
    "\n",
    "Answer the following questions:\n",
    "\n",
    "1. What is the best result on the validation set?\n",
    "2. At the epoch with best result on the validation set, what is the result on the training set?\n",
    "3. Is the system overfitting? Justify your answer.\n",
    "4. Do we really need 100 epochs? Do we need more than 100 epochs? would the system run better with less epochs?"
   ]
  },
  {
   "cell_type": "code",
   "execution_count": 6,
   "metadata": {},
   "outputs": [
    {
     "data": {
      "text/plain": [
       "[PhysicalDevice(name='/physical_device:CPU:0', device_type='CPU')]"
      ]
     },
     "execution_count": 6,
     "metadata": {},
     "output_type": "execute_result"
    }
   ],
   "source": [
    "import tensorflow as tf\n",
    "\n",
    "tf.config.experimental.list_physical_devices()"
   ]
  },
  {
   "cell_type": "code",
   "execution_count": 12,
   "metadata": {},
   "outputs": [],
   "source": [
    "from tensorflow.compat.v1 import ConfigProto\n",
    "from tensorflow.compat.v1 import InteractiveSession\n",
    "\n",
    "config = ConfigProto()\n",
    "config.gpu_options.allow_growth = True\n",
    "session = InteractiveSession(config=config)"
   ]
  },
  {
   "cell_type": "code",
   "execution_count": 44,
   "metadata": {},
   "outputs": [
    {
     "name": "stdout",
     "output_type": "stream",
     "text": [
      "[('Marna', 1), ('Thadeus', 0), ('Jereme', 0), ('Winny', 1), ('Revkah', 1)]\n",
      "(6944, 54)\n",
      "1\n"
     ]
    },
    {
     "data": {
      "text/plain": [
       "[(array([0, 0, 0, 0, 0, 0, 0, 0, 0, 0, 0, 0, 0, 1, 0, 0, 0, 0, 0, 0, 0, 0,\n",
       "         0, 0, 0, 0, 0, 1, 0, 0, 0, 0, 0, 0, 0, 0, 0, 0, 0, 0, 0, 0, 0, 0,\n",
       "         0, 0, 0, 0, 0, 0, 0, 0, 0, 0]),\n",
       "  1),\n",
       " (array([0, 0, 0, 0, 0, 0, 0, 0, 0, 0, 0, 0, 0, 0, 0, 0, 0, 0, 0, 0, 1, 0,\n",
       "         0, 0, 0, 0, 0, 0, 0, 0, 0, 0, 0, 0, 0, 0, 0, 0, 0, 0, 0, 0, 0, 0,\n",
       "         0, 1, 0, 0, 0, 0, 0, 0, 0, 0]),\n",
       "  0),\n",
       " (array([0, 0, 0, 0, 0, 0, 0, 0, 0, 0, 0, 0, 1, 0, 0, 0, 0, 0, 0, 0, 0, 0,\n",
       "         0, 0, 0, 0, 0, 0, 0, 0, 0, 1, 0, 0, 0, 0, 0, 0, 0, 0, 0, 0, 0, 0,\n",
       "         0, 0, 0, 0, 0, 0, 0, 0, 0, 0]),\n",
       "  0),\n",
       " (array([0, 0, 0, 0, 0, 0, 0, 0, 0, 0, 0, 0, 0, 1, 0, 0, 0, 0, 0, 0, 0, 0,\n",
       "         0, 0, 0, 0, 0, 0, 0, 0, 0, 0, 0, 0, 0, 0, 0, 0, 0, 0, 0, 0, 0, 0,\n",
       "         0, 0, 0, 0, 0, 0, 0, 1, 0, 0]),\n",
       "  1),\n",
       " (array([1, 0, 0, 0, 0, 0, 0, 0, 0, 0, 0, 0, 0, 0, 0, 0, 0, 0, 0, 0, 0, 0,\n",
       "         0, 0, 0, 0, 0, 0, 0, 0, 0, 0, 0, 0, 1, 0, 0, 0, 0, 0, 0, 0, 0, 0,\n",
       "         0, 0, 0, 0, 0, 0, 0, 0, 0, 0]),\n",
       "  1)]"
      ]
     },
     "execution_count": 44,
     "metadata": {},
     "output_type": "execute_result"
    }
   ],
   "source": [
    "# creating inputs and labels\n",
    "print(train_names[:5])\n",
    "\n",
    "x_train, y_train = [], []\n",
    "\n",
    "for name, gend in train_names:\n",
    "    x_train.append(gender_features_n(name,2))\n",
    "    y_train.append(gend)\n",
    "\n",
    "x_train=np.array(x_train)\n",
    "y_train=np.array(y_train)\n",
    "\n",
    "\n",
    "\n",
    "x_devtest, y_devtest= [],[]\n",
    "for name, gend in devtest_names:\n",
    "    x_devtest.append(gender_features_n(name,2))\n",
    "    y_devtest.append(gend)\n",
    "\n",
    "x_devtest=np.array(x_devtest)\n",
    "y_devtest=np.array(y_devtest)\n",
    "\n",
    "print(np.shape(x_train))\n",
    "print(y_train[3])\n",
    "\n",
    "train_dataset=tf.data.Dataset.from_tensor_slices((x_train,y_train))\n",
    "devtest_dataset=tf.data.Dataset.from_tensor_slices((x_devtest,y_devtest))\n",
    "\n",
    "list(train_dataset.as_numpy_iterator())[:5]"
   ]
  },
  {
   "cell_type": "code",
   "execution_count": 63,
   "metadata": {},
   "outputs": [
    {
     "name": "stdout",
     "output_type": "stream",
     "text": [
      "Epoch 1/100\n",
      "14/14 [==============================] - 1s 29ms/step - loss: 0.7039 - acc: 0.5186 - val_loss: 0.6941 - val_acc: 0.5300\n",
      "Epoch 2/100\n",
      "14/14 [==============================] - 0s 7ms/step - loss: 0.6950 - acc: 0.5236 - val_loss: 0.6868 - val_acc: 0.5320\n",
      "Epoch 3/100\n",
      "14/14 [==============================] - 0s 10ms/step - loss: 0.6878 - acc: 0.5305 - val_loss: 0.6802 - val_acc: 0.5460\n",
      "Epoch 4/100\n",
      "14/14 [==============================] - 0s 16ms/step - loss: 0.6810 - acc: 0.5334 - val_loss: 0.6737 - val_acc: 0.5420\n",
      "Epoch 5/100\n",
      "14/14 [==============================] - 0s 6ms/step - loss: 0.6743 - acc: 0.5317 - val_loss: 0.6674 - val_acc: 0.5420\n",
      "Epoch 6/100\n",
      "14/14 [==============================] - 0s 8ms/step - loss: 0.6680 - acc: 0.5462 - val_loss: 0.6615 - val_acc: 0.5580\n",
      "Epoch 7/100\n",
      "14/14 [==============================] - 0s 5ms/step - loss: 0.6618 - acc: 0.5637 - val_loss: 0.6557 - val_acc: 0.6180\n",
      "Epoch 8/100\n",
      "14/14 [==============================] - 0s 5ms/step - loss: 0.6558 - acc: 0.6423 - val_loss: 0.6501 - val_acc: 0.6600\n",
      "Epoch 9/100\n",
      "14/14 [==============================] - 0s 9ms/step - loss: 0.6500 - acc: 0.6565 - val_loss: 0.6446 - val_acc: 0.6580\n",
      "Epoch 10/100\n",
      "14/14 [==============================] - 0s 5ms/step - loss: 0.6444 - acc: 0.6575 - val_loss: 0.6394 - val_acc: 0.6580\n",
      "Epoch 11/100\n",
      "14/14 [==============================] - 0s 6ms/step - loss: 0.6390 - acc: 0.6573 - val_loss: 0.6343 - val_acc: 0.6580\n",
      "Epoch 12/100\n",
      "14/14 [==============================] - 0s 6ms/step - loss: 0.6338 - acc: 0.6562 - val_loss: 0.6295 - val_acc: 0.6520\n",
      "Epoch 13/100\n",
      "14/14 [==============================] - 0s 7ms/step - loss: 0.6289 - acc: 0.6594 - val_loss: 0.6251 - val_acc: 0.6560\n",
      "Epoch 14/100\n",
      "14/14 [==============================] - 0s 8ms/step - loss: 0.6241 - acc: 0.6614 - val_loss: 0.6206 - val_acc: 0.6580\n",
      "Epoch 15/100\n",
      "14/14 [==============================] - 0s 6ms/step - loss: 0.6195 - acc: 0.6655 - val_loss: 0.6163 - val_acc: 0.6560\n",
      "Epoch 16/100\n",
      "14/14 [==============================] - 0s 6ms/step - loss: 0.6149 - acc: 0.6668 - val_loss: 0.6122 - val_acc: 0.6560\n",
      "Epoch 17/100\n",
      "14/14 [==============================] - 0s 6ms/step - loss: 0.6106 - acc: 0.6666 - val_loss: 0.6083 - val_acc: 0.6560\n",
      "Epoch 18/100\n",
      "14/14 [==============================] - 0s 12ms/step - loss: 0.6064 - acc: 0.6663 - val_loss: 0.6044 - val_acc: 0.6600\n",
      "Epoch 19/100\n",
      "14/14 [==============================] - 0s 5ms/step - loss: 0.6024 - acc: 0.6672 - val_loss: 0.6009 - val_acc: 0.6600\n",
      "Epoch 20/100\n",
      "14/14 [==============================] - 0s 6ms/step - loss: 0.5986 - acc: 0.6728 - val_loss: 0.5975 - val_acc: 0.6680\n",
      "Epoch 21/100\n",
      "14/14 [==============================] - 0s 6ms/step - loss: 0.5949 - acc: 0.6786 - val_loss: 0.5941 - val_acc: 0.6720\n",
      "Epoch 22/100\n",
      "14/14 [==============================] - 0s 4ms/step - loss: 0.5912 - acc: 0.6804 - val_loss: 0.5909 - val_acc: 0.6720\n",
      "Epoch 23/100\n",
      "14/14 [==============================] - 0s 4ms/step - loss: 0.5877 - acc: 0.6806 - val_loss: 0.5879 - val_acc: 0.6760\n",
      "Epoch 24/100\n",
      "14/14 [==============================] - 0s 4ms/step - loss: 0.5844 - acc: 0.6806 - val_loss: 0.5850 - val_acc: 0.6760\n",
      "Epoch 25/100\n",
      "14/14 [==============================] - 0s 4ms/step - loss: 0.5812 - acc: 0.6823 - val_loss: 0.5822 - val_acc: 0.6800\n",
      "Epoch 26/100\n",
      "14/14 [==============================] - 0s 20ms/step - loss: 0.5781 - acc: 0.6833 - val_loss: 0.5795 - val_acc: 0.6800\n",
      "Epoch 27/100\n",
      "14/14 [==============================] - 0s 6ms/step - loss: 0.5750 - acc: 0.6996 - val_loss: 0.5770 - val_acc: 0.7080\n",
      "Epoch 28/100\n",
      "14/14 [==============================] - 0s 5ms/step - loss: 0.5722 - acc: 0.7031 - val_loss: 0.5746 - val_acc: 0.7020\n",
      "Epoch 29/100\n",
      "14/14 [==============================] - 0s 4ms/step - loss: 0.5694 - acc: 0.7029 - val_loss: 0.5722 - val_acc: 0.7080\n",
      "Epoch 30/100\n",
      "14/14 [==============================] - 0s 5ms/step - loss: 0.5667 - acc: 0.7082 - val_loss: 0.5699 - val_acc: 0.7060\n",
      "Epoch 31/100\n",
      "14/14 [==============================] - 0s 6ms/step - loss: 0.5641 - acc: 0.7094 - val_loss: 0.5677 - val_acc: 0.7080\n",
      "Epoch 32/100\n",
      "14/14 [==============================] - 0s 4ms/step - loss: 0.5615 - acc: 0.7108 - val_loss: 0.5656 - val_acc: 0.7280\n",
      "Epoch 33/100\n",
      "14/14 [==============================] - 0s 6ms/step - loss: 0.5590 - acc: 0.7260 - val_loss: 0.5635 - val_acc: 0.7300\n",
      "Epoch 34/100\n",
      "14/14 [==============================] - 0s 4ms/step - loss: 0.5566 - acc: 0.7284 - val_loss: 0.5615 - val_acc: 0.7320\n",
      "Epoch 35/100\n",
      "14/14 [==============================] - 0s 4ms/step - loss: 0.5542 - acc: 0.7285 - val_loss: 0.5596 - val_acc: 0.7320\n",
      "Epoch 36/100\n",
      "14/14 [==============================] - 0s 5ms/step - loss: 0.5519 - acc: 0.7296 - val_loss: 0.5577 - val_acc: 0.7320\n",
      "Epoch 37/100\n",
      "14/14 [==============================] - 0s 25ms/step - loss: 0.5497 - acc: 0.7280 - val_loss: 0.5559 - val_acc: 0.7240\n",
      "Epoch 38/100\n",
      "14/14 [==============================] - 0s 4ms/step - loss: 0.5475 - acc: 0.7281 - val_loss: 0.5541 - val_acc: 0.7220\n",
      "Epoch 39/100\n",
      "14/14 [==============================] - 0s 4ms/step - loss: 0.5454 - acc: 0.7306 - val_loss: 0.5524 - val_acc: 0.7240\n",
      "Epoch 40/100\n",
      "14/14 [==============================] - 0s 3ms/step - loss: 0.5433 - acc: 0.7321 - val_loss: 0.5507 - val_acc: 0.7240\n",
      "Epoch 41/100\n",
      "14/14 [==============================] - 0s 3ms/step - loss: 0.5413 - acc: 0.7337 - val_loss: 0.5491 - val_acc: 0.7240\n",
      "Epoch 42/100\n",
      "14/14 [==============================] - 0s 3ms/step - loss: 0.5393 - acc: 0.7343 - val_loss: 0.5475 - val_acc: 0.7240\n",
      "Epoch 43/100\n",
      "14/14 [==============================] - 0s 3ms/step - loss: 0.5373 - acc: 0.7342 - val_loss: 0.5459 - val_acc: 0.7240\n",
      "Epoch 44/100\n",
      "14/14 [==============================] - 0s 3ms/step - loss: 0.5354 - acc: 0.7344 - val_loss: 0.5444 - val_acc: 0.7240\n",
      "Epoch 45/100\n",
      "14/14 [==============================] - 0s 3ms/step - loss: 0.5336 - acc: 0.7353 - val_loss: 0.5429 - val_acc: 0.7240\n",
      "Epoch 46/100\n",
      "14/14 [==============================] - 0s 4ms/step - loss: 0.5318 - acc: 0.7356 - val_loss: 0.5415 - val_acc: 0.7260\n",
      "Epoch 47/100\n",
      "14/14 [==============================] - 0s 5ms/step - loss: 0.5301 - acc: 0.7359 - val_loss: 0.5401 - val_acc: 0.7260\n",
      "Epoch 48/100\n",
      "14/14 [==============================] - 0s 3ms/step - loss: 0.5283 - acc: 0.7359 - val_loss: 0.5387 - val_acc: 0.7260\n",
      "Epoch 49/100\n",
      "14/14 [==============================] - 0s 3ms/step - loss: 0.5266 - acc: 0.7380 - val_loss: 0.5374 - val_acc: 0.7260\n",
      "Epoch 50/100\n",
      "14/14 [==============================] - 0s 5ms/step - loss: 0.5250 - acc: 0.7418 - val_loss: 0.5361 - val_acc: 0.7240\n",
      "Epoch 51/100\n",
      "14/14 [==============================] - 0s 3ms/step - loss: 0.5234 - acc: 0.7401 - val_loss: 0.5348 - val_acc: 0.7260\n",
      "Epoch 52/100\n",
      "14/14 [==============================] - 0s 3ms/step - loss: 0.5218 - acc: 0.7409 - val_loss: 0.5336 - val_acc: 0.7260\n",
      "Epoch 53/100\n",
      "14/14 [==============================] - 0s 3ms/step - loss: 0.5202 - acc: 0.7416 - val_loss: 0.5323 - val_acc: 0.7280\n",
      "Epoch 54/100\n",
      "14/14 [==============================] - 0s 3ms/step - loss: 0.5187 - acc: 0.7441 - val_loss: 0.5312 - val_acc: 0.7280\n",
      "Epoch 55/100\n",
      "14/14 [==============================] - 0s 3ms/step - loss: 0.5173 - acc: 0.7442 - val_loss: 0.5300 - val_acc: 0.7280\n",
      "Epoch 56/100\n",
      "14/14 [==============================] - 0s 3ms/step - loss: 0.5158 - acc: 0.7442 - val_loss: 0.5289 - val_acc: 0.7280\n",
      "Epoch 57/100\n",
      "14/14 [==============================] - 0s 6ms/step - loss: 0.5143 - acc: 0.7442 - val_loss: 0.5277 - val_acc: 0.7280\n",
      "Epoch 58/100\n",
      "14/14 [==============================] - 0s 7ms/step - loss: 0.5130 - acc: 0.7442 - val_loss: 0.5267 - val_acc: 0.7280\n",
      "Epoch 59/100\n",
      "14/14 [==============================] - 0s 3ms/step - loss: 0.5116 - acc: 0.7444 - val_loss: 0.5256 - val_acc: 0.7280\n",
      "Epoch 60/100\n",
      "14/14 [==============================] - 0s 3ms/step - loss: 0.5102 - acc: 0.7448 - val_loss: 0.5245 - val_acc: 0.7280\n",
      "Epoch 61/100\n",
      "14/14 [==============================] - 0s 3ms/step - loss: 0.5089 - acc: 0.7450 - val_loss: 0.5235 - val_acc: 0.7280\n",
      "Epoch 62/100\n",
      "14/14 [==============================] - 0s 3ms/step - loss: 0.5076 - acc: 0.7450 - val_loss: 0.5225 - val_acc: 0.7280\n",
      "Epoch 63/100\n",
      "14/14 [==============================] - 0s 3ms/step - loss: 0.5063 - acc: 0.7454 - val_loss: 0.5215 - val_acc: 0.7280\n",
      "Epoch 64/100\n",
      "14/14 [==============================] - 0s 3ms/step - loss: 0.5050 - acc: 0.7460 - val_loss: 0.5205 - val_acc: 0.7280\n",
      "Epoch 65/100\n",
      "14/14 [==============================] - 0s 3ms/step - loss: 0.5038 - acc: 0.7483 - val_loss: 0.5196 - val_acc: 0.7300\n",
      "Epoch 66/100\n",
      "14/14 [==============================] - 0s 3ms/step - loss: 0.5026 - acc: 0.7506 - val_loss: 0.5187 - val_acc: 0.7400\n",
      "Epoch 67/100\n",
      "14/14 [==============================] - 0s 3ms/step - loss: 0.5014 - acc: 0.7510 - val_loss: 0.5177 - val_acc: 0.7400\n",
      "Epoch 68/100\n",
      "14/14 [==============================] - 0s 3ms/step - loss: 0.5003 - acc: 0.7523 - val_loss: 0.5168 - val_acc: 0.7420\n",
      "Epoch 69/100\n",
      "14/14 [==============================] - 0s 3ms/step - loss: 0.4991 - acc: 0.7526 - val_loss: 0.5159 - val_acc: 0.7420\n",
      "Epoch 70/100\n",
      "14/14 [==============================] - 0s 3ms/step - loss: 0.4980 - acc: 0.7526 - val_loss: 0.5151 - val_acc: 0.7420\n",
      "Epoch 71/100\n",
      "14/14 [==============================] - 0s 3ms/step - loss: 0.4969 - acc: 0.7524 - val_loss: 0.5143 - val_acc: 0.7420\n",
      "Epoch 72/100\n",
      "14/14 [==============================] - 0s 3ms/step - loss: 0.4958 - acc: 0.7524 - val_loss: 0.5135 - val_acc: 0.7420\n",
      "Epoch 73/100\n",
      "14/14 [==============================] - 0s 3ms/step - loss: 0.4948 - acc: 0.7524 - val_loss: 0.5127 - val_acc: 0.7420\n",
      "Epoch 74/100\n",
      "14/14 [==============================] - 0s 3ms/step - loss: 0.4937 - acc: 0.7523 - val_loss: 0.5119 - val_acc: 0.7420\n",
      "Epoch 75/100\n",
      "14/14 [==============================] - 0s 3ms/step - loss: 0.4928 - acc: 0.7522 - val_loss: 0.5111 - val_acc: 0.7420\n",
      "Epoch 76/100\n",
      "14/14 [==============================] - 0s 3ms/step - loss: 0.4917 - acc: 0.7522 - val_loss: 0.5104 - val_acc: 0.7440\n",
      "Epoch 77/100\n",
      "14/14 [==============================] - 0s 3ms/step - loss: 0.4907 - acc: 0.7526 - val_loss: 0.5096 - val_acc: 0.7440\n",
      "Epoch 78/100\n",
      "14/14 [==============================] - 0s 3ms/step - loss: 0.4898 - acc: 0.7529 - val_loss: 0.5089 - val_acc: 0.7440\n",
      "Epoch 79/100\n",
      "14/14 [==============================] - 0s 3ms/step - loss: 0.4888 - acc: 0.7559 - val_loss: 0.5082 - val_acc: 0.7440\n",
      "Epoch 80/100\n",
      "14/14 [==============================] - 0s 3ms/step - loss: 0.4879 - acc: 0.7559 - val_loss: 0.5075 - val_acc: 0.7440\n",
      "Epoch 81/100\n",
      "14/14 [==============================] - 0s 5ms/step - loss: 0.4870 - acc: 0.7559 - val_loss: 0.5069 - val_acc: 0.7440\n",
      "Epoch 82/100\n",
      "14/14 [==============================] - 0s 3ms/step - loss: 0.4861 - acc: 0.7560 - val_loss: 0.5062 - val_acc: 0.7440\n",
      "Epoch 83/100\n",
      "14/14 [==============================] - 0s 3ms/step - loss: 0.4852 - acc: 0.7563 - val_loss: 0.5055 - val_acc: 0.7440\n",
      "Epoch 84/100\n",
      "14/14 [==============================] - 0s 3ms/step - loss: 0.4843 - acc: 0.7560 - val_loss: 0.5049 - val_acc: 0.7420\n",
      "Epoch 85/100\n",
      "14/14 [==============================] - 0s 3ms/step - loss: 0.4835 - acc: 0.7558 - val_loss: 0.5042 - val_acc: 0.7420\n",
      "Epoch 86/100\n",
      "14/14 [==============================] - 0s 5ms/step - loss: 0.4826 - acc: 0.7556 - val_loss: 0.5037 - val_acc: 0.7420\n",
      "Epoch 87/100\n",
      "14/14 [==============================] - 0s 3ms/step - loss: 0.4818 - acc: 0.7560 - val_loss: 0.5031 - val_acc: 0.7420\n",
      "Epoch 88/100\n",
      "14/14 [==============================] - 0s 3ms/step - loss: 0.4810 - acc: 0.7560 - val_loss: 0.5025 - val_acc: 0.7420\n",
      "Epoch 89/100\n",
      "14/14 [==============================] - 0s 3ms/step - loss: 0.4802 - acc: 0.7560 - val_loss: 0.5019 - val_acc: 0.7420\n",
      "Epoch 90/100\n",
      "14/14 [==============================] - 0s 3ms/step - loss: 0.4794 - acc: 0.7568 - val_loss: 0.5014 - val_acc: 0.7440\n",
      "Epoch 91/100\n",
      "14/14 [==============================] - 0s 5ms/step - loss: 0.4786 - acc: 0.7566 - val_loss: 0.5008 - val_acc: 0.7440\n",
      "Epoch 92/100\n",
      "14/14 [==============================] - 0s 4ms/step - loss: 0.4779 - acc: 0.7578 - val_loss: 0.5003 - val_acc: 0.7380\n",
      "Epoch 93/100\n",
      "14/14 [==============================] - 0s 3ms/step - loss: 0.4771 - acc: 0.7601 - val_loss: 0.4997 - val_acc: 0.7380\n",
      "Epoch 94/100\n",
      "14/14 [==============================] - 0s 3ms/step - loss: 0.4764 - acc: 0.7601 - val_loss: 0.4992 - val_acc: 0.7380\n",
      "Epoch 95/100\n",
      "14/14 [==============================] - 0s 3ms/step - loss: 0.4757 - acc: 0.7601 - val_loss: 0.4987 - val_acc: 0.7380\n",
      "Epoch 96/100\n",
      "14/14 [==============================] - 0s 3ms/step - loss: 0.4750 - acc: 0.7601 - val_loss: 0.4982 - val_acc: 0.7380\n",
      "Epoch 97/100\n",
      "14/14 [==============================] - 0s 3ms/step - loss: 0.4743 - acc: 0.7608 - val_loss: 0.4977 - val_acc: 0.7400\n",
      "Epoch 98/100\n",
      "14/14 [==============================] - 0s 3ms/step - loss: 0.4736 - acc: 0.7607 - val_loss: 0.4973 - val_acc: 0.7460\n",
      "Epoch 99/100\n",
      "14/14 [==============================] - 0s 3ms/step - loss: 0.4730 - acc: 0.7614 - val_loss: 0.4968 - val_acc: 0.7460\n",
      "Epoch 100/100\n",
      "14/14 [==============================] - 0s 3ms/step - loss: 0.4723 - acc: 0.7608 - val_loss: 0.4964 - val_acc: 0.7460\n"
     ]
    }
   ],
   "source": [
    "import numpy as np\n",
    "from tensorflow.keras import models, Model, Sequential\n",
    "from tensorflow.keras import layers\n",
    "from tensorflow.keras.layers import Dense\n",
    "\n",
    "\n",
    "epoch=100\n",
    "b_size=512\n",
    "\n",
    "model = Sequential([Dense(1,activation='sigmoid',input_shape=(54, ))])\n",
    "\n",
    "model.compile(loss='binary_crossentropy',optimizer='rmsprop',metrics=['acc'])\n",
    "\n",
    "history = model.fit(x=x_train,y=y_train,batch_size=b_size,epochs=epoch,validation_data=(x_devtest,y_devtest))\n",
    "history_dict=history.history\n",
    "\n"
   ]
  },
  {
   "cell_type": "code",
   "execution_count": 64,
   "metadata": {},
   "outputs": [
    {
     "name": "stdout",
     "output_type": "stream",
     "text": [
      "Model: \"sequential_18\"\n",
      "_________________________________________________________________\n",
      " Layer (type)                Output Shape              Param #   \n",
      "=================================================================\n",
      " dense_18 (Dense)            (None, 1)                 55        \n",
      "                                                                 \n",
      "=================================================================\n",
      "Total params: 55\n",
      "Trainable params: 55\n",
      "Non-trainable params: 0\n",
      "_________________________________________________________________\n"
     ]
    },
    {
     "data": {
      "text/plain": [
       "dict_keys(['loss', 'acc', 'val_loss', 'val_acc'])"
      ]
     },
     "execution_count": 64,
     "metadata": {},
     "output_type": "execute_result"
    }
   ],
   "source": [
    "model.summary()\n",
    "history_dict.keys()"
   ]
  },
  {
   "cell_type": "markdown",
   "metadata": {},
   "source": [
    "(write additional code for the partition of the data, your experiments, and your analysis. Write the answers to the questions.)"
   ]
  },
  {
   "cell_type": "code",
   "execution_count": 65,
   "metadata": {},
   "outputs": [
    {
     "data": {
      "text/plain": [
       "<matplotlib.legend.Legend at 0x7fcee5182e50>"
      ]
     },
     "execution_count": 65,
     "metadata": {},
     "output_type": "execute_result"
    },
    {
     "data": {
      "image/png": "[encoded data removed]",
      "text/plain": [
       "<Figure size 432x288 with 1 Axes>"
      ]
     },
     "metadata": {
      "needs_background": "light"
     },
     "output_type": "display_data"
    }
   ],
   "source": [
    "import matplotlib.pyplot as plt\n",
    "\n",
    "plt.plot(history.history['acc'], label='training accuracy')\n",
    "plt.plot(history.history['val_acc'], label='testing accuracy')\n",
    "plt.title('Accuracy')\n",
    "plt.xlabel('epochs')\n",
    "plt.ylabel('accuracy')\n",
    "plt.legend()"
   ]
  },
  {
   "cell_type": "code",
   "execution_count": 67,
   "metadata": {},
   "outputs": [
    {
     "data": {
      "text/plain": [
       "<matplotlib.legend.Legend at 0x7fcee53fd7f0>"
      ]
     },
     "execution_count": 67,
     "metadata": {},
     "output_type": "execute_result"
    },
    {
     "data": {
      "image/png": "[encoded data removed]",
      "text/plain": [
       "<Figure size 432x288 with 1 Axes>"
      ]
     },
     "metadata": {
      "needs_background": "light"
     },
     "output_type": "display_data"
    }
   ],
   "source": [
    "plt.plot(history.history['loss'], label='training loss')\n",
    "plt.plot(history.history['val_loss'], label='testing loss')\n",
    "plt.title('Loss')\n",
    "plt.xlabel('epochs')\n",
    "plt.ylabel('Loss')\n",
    "plt.legend()"
   ]
  },
  {
   "cell_type": "markdown",
   "metadata": {},
   "source": [
    "## Exercise: A Deeper Network\n",
    "Experiment with a network that has one hidden dense layer with a `'relu'` activation. The resulting system is no longer a logistic regression classifier, it's something more complex. Try the following sizes in the hidden layer:\n",
    "\n",
    "* 5, 7, 10\n",
    "\n",
    "Answer the following questions:\n",
    "\n",
    "1. Which system performed best on the dev-test set?\n",
    "2. Would you add more or less cells in the hidden layer? Justify your answer.\n",
    "3. Is this system better than the simpler system of the previous exercise? Justify your answer."
   ]
  },
  {
   "cell_type": "code",
   "execution_count": null,
   "metadata": {},
   "outputs": [],
   "source": []
  },
  {
   "cell_type": "markdown",
   "metadata": {},
   "source": [
    "# Optional: Deep Learning with the Movie Review Corpus\n",
    "The notebook [W04L1-2-MovieReviews.ipynb](../lectures/W04L1-2-MovieReviews.ipynb) has several questions at the end, repeated below. Try to answer these, and indeed try other variants!\n",
    "\n",
    "* We were using 2 hidden layers. Try to use 1 or 3 hidden layers and see how it affects validation and test accuracy.\n",
    "* Try to use layers with more hidden units or less hidden units: 32 units, 64 units...\n",
    "* Try to use the `mse` loss function instead of `binary_crossentropy`.\n",
    "* Try to use the `tanh` activation (an activation that was popular in the early days of neural networks) instead of `relu`."
   ]
  },
  {
   "cell_type": "code",
   "execution_count": null,
   "metadata": {},
   "outputs": [],
   "source": []
  }
 ],
 "metadata": {
  "anaconda-cloud": {},
  "kernelspec": {
   "display_name": "Python 3",
   "language": "python",
   "name": "python3"
  },
  "language_info": {
   "codemirror_mode": {
    "name": "ipython",
    "version": 3
   },
   "file_extension": ".py",
   "mimetype": "text/x-python",
   "name": "python",
   "nbconvert_exporter": "python",
   "pygments_lexer": "ipython3",
   "version": "3.8.12"
  }
 },
 "nbformat": 4,
 "nbformat_minor": 2
}
